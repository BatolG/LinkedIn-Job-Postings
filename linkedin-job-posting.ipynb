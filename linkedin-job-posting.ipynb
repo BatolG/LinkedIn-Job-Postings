{
 "cells": [
  {
   "cell_type": "code",
   "execution_count": 1,
   "id": "14604f2d",
   "metadata": {
    "_cell_guid": "b1076dfc-b9ad-4769-8c92-a6c4dae69d19",
    "_uuid": "8f2839f25d086af736a60e9eeb907d3b93b6e0e5",
    "execution": {
     "iopub.execute_input": "2023-11-13T15:41:09.468351Z",
     "iopub.status.busy": "2023-11-13T15:41:09.467716Z",
     "iopub.status.idle": "2023-11-13T15:41:10.332417Z",
     "shell.execute_reply": "2023-11-13T15:41:10.331343Z"
    },
    "papermill": {
     "duration": 0.877951,
     "end_time": "2023-11-13T15:41:10.334916",
     "exception": false,
     "start_time": "2023-11-13T15:41:09.456965",
     "status": "completed"
    },
    "tags": []
   },
   "outputs": [
    {
     "name": "stdout",
     "output_type": "stream",
     "text": [
      "/kaggle/input/linkedin-job-postings/job_postings.csv\n",
      "/kaggle/input/linkedin-job-postings/company_details/companies.csv\n",
      "/kaggle/input/linkedin-job-postings/company_details/company_industries.csv\n",
      "/kaggle/input/linkedin-job-postings/company_details/company_specialities.csv\n",
      "/kaggle/input/linkedin-job-postings/company_details/employee_counts.csv\n",
      "/kaggle/input/linkedin-job-postings/job_details/benefits.csv\n",
      "/kaggle/input/linkedin-job-postings/job_details/job_skills.csv\n",
      "/kaggle/input/linkedin-job-postings/job_details/job_industries.csv\n",
      "/kaggle/input/linkedin-job-postings/job_details/salaries.csv\n",
      "/kaggle/input/linkedin-job-postings/maps/industries.csv\n",
      "/kaggle/input/linkedin-job-postings/maps/skills.csv\n"
     ]
    }
   ],
   "source": [
    "# This Python 3 environment comes with many helpful analytics libraries installed\n",
    "# It is defined by the kaggle/python Docker image: https://github.com/kaggle/docker-python\n",
    "# For example, here's several helpful packages to load\n",
    "\n",
    "import numpy as np # linear algebra\n",
    "import pandas as pd # data processing, CSV file I/O (e.g. pd.read_csv)\n",
    "\n",
    "# Input data files are available in the read-only \"../input/\" directory\n",
    "# For example, running this (by clicking run or pressing Shift+Enter) will list all files under the input directory\n",
    "\n",
    "import os\n",
    "for dirname, _, filenames in os.walk('/kaggle/input'):\n",
    "    for filename in filenames:\n",
    "        print(os.path.join(dirname, filename))\n",
    "\n",
    "# You can write up to 20GB to the current directory (/kaggle/working/) that gets preserved as output when you create a version using \"Save & Run All\" \n",
    "# You can also write temporary files to /kaggle/temp/, but they won't be saved outside of the current session"
   ]
  },
  {
   "cell_type": "code",
   "execution_count": 2,
   "id": "05803710",
   "metadata": {
    "execution": {
     "iopub.execute_input": "2023-11-13T15:41:10.348984Z",
     "iopub.status.busy": "2023-11-13T15:41:10.348170Z",
     "iopub.status.idle": "2023-11-13T15:41:14.317457Z",
     "shell.execute_reply": "2023-11-13T15:41:14.316324Z"
    },
    "papermill": {
     "duration": 3.979532,
     "end_time": "2023-11-13T15:41:14.320261",
     "exception": false,
     "start_time": "2023-11-13T15:41:10.340729",
     "status": "completed"
    },
    "tags": []
   },
   "outputs": [],
   "source": [
    "#Load dataset\n",
    "d = pd.read_csv('/kaggle/input/linkedin-job-postings/job_postings.csv')"
   ]
  },
  {
   "cell_type": "code",
   "execution_count": 3,
   "id": "29f64f6e",
   "metadata": {
    "execution": {
     "iopub.execute_input": "2023-11-13T15:41:14.333665Z",
     "iopub.status.busy": "2023-11-13T15:41:14.333279Z",
     "iopub.status.idle": "2023-11-13T15:41:14.376829Z",
     "shell.execute_reply": "2023-11-13T15:41:14.375695Z"
    },
    "papermill": {
     "duration": 0.053315,
     "end_time": "2023-11-13T15:41:14.379644",
     "exception": false,
     "start_time": "2023-11-13T15:41:14.326329",
     "status": "completed"
    },
    "tags": []
   },
   "outputs": [
    {
     "data": {
      "text/html": [
       "<div>\n",
       "<style scoped>\n",
       "    .dataframe tbody tr th:only-of-type {\n",
       "        vertical-align: middle;\n",
       "    }\n",
       "\n",
       "    .dataframe tbody tr th {\n",
       "        vertical-align: top;\n",
       "    }\n",
       "\n",
       "    .dataframe thead th {\n",
       "        text-align: right;\n",
       "    }\n",
       "</style>\n",
       "<table border=\"1\" class=\"dataframe\">\n",
       "  <thead>\n",
       "    <tr style=\"text-align: right;\">\n",
       "      <th></th>\n",
       "      <th>job_id</th>\n",
       "      <th>company_id</th>\n",
       "      <th>title</th>\n",
       "      <th>description</th>\n",
       "      <th>max_salary</th>\n",
       "      <th>med_salary</th>\n",
       "      <th>min_salary</th>\n",
       "      <th>pay_period</th>\n",
       "      <th>formatted_work_type</th>\n",
       "      <th>location</th>\n",
       "      <th>...</th>\n",
       "      <th>closed_time</th>\n",
       "      <th>formatted_experience_level</th>\n",
       "      <th>skills_desc</th>\n",
       "      <th>listed_time</th>\n",
       "      <th>posting_domain</th>\n",
       "      <th>sponsored</th>\n",
       "      <th>work_type</th>\n",
       "      <th>currency</th>\n",
       "      <th>compensation_type</th>\n",
       "      <th>scraped</th>\n",
       "    </tr>\n",
       "  </thead>\n",
       "  <tbody>\n",
       "    <tr>\n",
       "      <th>0</th>\n",
       "      <td>3757940104</td>\n",
       "      <td>553718.0</td>\n",
       "      <td>Hearing Care Provider</td>\n",
       "      <td>Overview\\n\\nHearingLife is a national hearing ...</td>\n",
       "      <td>NaN</td>\n",
       "      <td>5250.00</td>\n",
       "      <td>NaN</td>\n",
       "      <td>MONTHLY</td>\n",
       "      <td>Full-time</td>\n",
       "      <td>Little River, SC</td>\n",
       "      <td>...</td>\n",
       "      <td>NaN</td>\n",
       "      <td>Entry level</td>\n",
       "      <td>NaN</td>\n",
       "      <td>1.699090e+12</td>\n",
       "      <td>careers-demant.icims.com</td>\n",
       "      <td>0</td>\n",
       "      <td>FULL_TIME</td>\n",
       "      <td>USD</td>\n",
       "      <td>BASE_SALARY</td>\n",
       "      <td>1699138101</td>\n",
       "    </tr>\n",
       "    <tr>\n",
       "      <th>1</th>\n",
       "      <td>3757940025</td>\n",
       "      <td>2192142.0</td>\n",
       "      <td>Shipping &amp; Receiving Associate 2nd shift (Beav...</td>\n",
       "      <td>Metalcraft of Mayville\\nMetalcraft of Mayville...</td>\n",
       "      <td>NaN</td>\n",
       "      <td>NaN</td>\n",
       "      <td>NaN</td>\n",
       "      <td>NaN</td>\n",
       "      <td>Full-time</td>\n",
       "      <td>Beaver Dam, WI</td>\n",
       "      <td>...</td>\n",
       "      <td>NaN</td>\n",
       "      <td>NaN</td>\n",
       "      <td>NaN</td>\n",
       "      <td>1.699080e+12</td>\n",
       "      <td>www.click2apply.net</td>\n",
       "      <td>0</td>\n",
       "      <td>FULL_TIME</td>\n",
       "      <td>NaN</td>\n",
       "      <td>NaN</td>\n",
       "      <td>1699085420</td>\n",
       "    </tr>\n",
       "    <tr>\n",
       "      <th>2</th>\n",
       "      <td>3757938019</td>\n",
       "      <td>474443.0</td>\n",
       "      <td>Manager, Engineering</td>\n",
       "      <td>\\nThe TSUBAKI name is synonymous with excellen...</td>\n",
       "      <td>NaN</td>\n",
       "      <td>NaN</td>\n",
       "      <td>NaN</td>\n",
       "      <td>NaN</td>\n",
       "      <td>Full-time</td>\n",
       "      <td>Bessemer, AL</td>\n",
       "      <td>...</td>\n",
       "      <td>NaN</td>\n",
       "      <td>NaN</td>\n",
       "      <td>Bachelor's Degree in Mechanical Engineering pr...</td>\n",
       "      <td>1.699080e+12</td>\n",
       "      <td>www.click2apply.net</td>\n",
       "      <td>0</td>\n",
       "      <td>FULL_TIME</td>\n",
       "      <td>NaN</td>\n",
       "      <td>NaN</td>\n",
       "      <td>1699085644</td>\n",
       "    </tr>\n",
       "    <tr>\n",
       "      <th>3</th>\n",
       "      <td>3757938018</td>\n",
       "      <td>18213359.0</td>\n",
       "      <td>Cook</td>\n",
       "      <td>descriptionTitle\\n\\n Looking for a great oppor...</td>\n",
       "      <td>NaN</td>\n",
       "      <td>22.27</td>\n",
       "      <td>NaN</td>\n",
       "      <td>HOURLY</td>\n",
       "      <td>Full-time</td>\n",
       "      <td>Aliso Viejo, CA</td>\n",
       "      <td>...</td>\n",
       "      <td>NaN</td>\n",
       "      <td>Entry level</td>\n",
       "      <td>NaN</td>\n",
       "      <td>1.699080e+12</td>\n",
       "      <td>jobs.apploi.com</td>\n",
       "      <td>0</td>\n",
       "      <td>FULL_TIME</td>\n",
       "      <td>USD</td>\n",
       "      <td>BASE_SALARY</td>\n",
       "      <td>1699087461</td>\n",
       "    </tr>\n",
       "    <tr>\n",
       "      <th>4</th>\n",
       "      <td>3757937095</td>\n",
       "      <td>437225.0</td>\n",
       "      <td>Principal Cloud Security Architect (Remote)</td>\n",
       "      <td>Job Summary\\nAt iHerb, we are on a mission to ...</td>\n",
       "      <td>275834.0</td>\n",
       "      <td>NaN</td>\n",
       "      <td>205956.0</td>\n",
       "      <td>YEARLY</td>\n",
       "      <td>Full-time</td>\n",
       "      <td>United States</td>\n",
       "      <td>...</td>\n",
       "      <td>NaN</td>\n",
       "      <td>Mid-Senior level</td>\n",
       "      <td>NaN</td>\n",
       "      <td>1.699090e+12</td>\n",
       "      <td>careers.iherb.com</td>\n",
       "      <td>0</td>\n",
       "      <td>FULL_TIME</td>\n",
       "      <td>USD</td>\n",
       "      <td>BASE_SALARY</td>\n",
       "      <td>1699085346</td>\n",
       "    </tr>\n",
       "  </tbody>\n",
       "</table>\n",
       "<p>5 rows × 28 columns</p>\n",
       "</div>"
      ],
      "text/plain": [
       "       job_id  company_id                                              title  \\\n",
       "0  3757940104    553718.0                              Hearing Care Provider   \n",
       "1  3757940025   2192142.0  Shipping & Receiving Associate 2nd shift (Beav...   \n",
       "2  3757938019    474443.0                               Manager, Engineering   \n",
       "3  3757938018  18213359.0                                               Cook   \n",
       "4  3757937095    437225.0        Principal Cloud Security Architect (Remote)   \n",
       "\n",
       "                                         description  max_salary  med_salary  \\\n",
       "0  Overview\\n\\nHearingLife is a national hearing ...         NaN     5250.00   \n",
       "1  Metalcraft of Mayville\\nMetalcraft of Mayville...         NaN         NaN   \n",
       "2  \\nThe TSUBAKI name is synonymous with excellen...         NaN         NaN   \n",
       "3  descriptionTitle\\n\\n Looking for a great oppor...         NaN       22.27   \n",
       "4  Job Summary\\nAt iHerb, we are on a mission to ...    275834.0         NaN   \n",
       "\n",
       "   min_salary pay_period formatted_work_type          location  ...  \\\n",
       "0         NaN    MONTHLY           Full-time  Little River, SC  ...   \n",
       "1         NaN        NaN           Full-time    Beaver Dam, WI  ...   \n",
       "2         NaN        NaN           Full-time      Bessemer, AL  ...   \n",
       "3         NaN     HOURLY           Full-time   Aliso Viejo, CA  ...   \n",
       "4    205956.0     YEARLY           Full-time     United States  ...   \n",
       "\n",
       "   closed_time  formatted_experience_level  \\\n",
       "0          NaN                 Entry level   \n",
       "1          NaN                         NaN   \n",
       "2          NaN                         NaN   \n",
       "3          NaN                 Entry level   \n",
       "4          NaN            Mid-Senior level   \n",
       "\n",
       "                                         skills_desc   listed_time  \\\n",
       "0                                                NaN  1.699090e+12   \n",
       "1                                                NaN  1.699080e+12   \n",
       "2  Bachelor's Degree in Mechanical Engineering pr...  1.699080e+12   \n",
       "3                                                NaN  1.699080e+12   \n",
       "4                                                NaN  1.699090e+12   \n",
       "\n",
       "             posting_domain sponsored  work_type  currency  compensation_type  \\\n",
       "0  careers-demant.icims.com         0  FULL_TIME       USD        BASE_SALARY   \n",
       "1       www.click2apply.net         0  FULL_TIME       NaN                NaN   \n",
       "2       www.click2apply.net         0  FULL_TIME       NaN                NaN   \n",
       "3           jobs.apploi.com         0  FULL_TIME       USD        BASE_SALARY   \n",
       "4         careers.iherb.com         0  FULL_TIME       USD        BASE_SALARY   \n",
       "\n",
       "      scraped  \n",
       "0  1699138101  \n",
       "1  1699085420  \n",
       "2  1699085644  \n",
       "3  1699087461  \n",
       "4  1699085346  \n",
       "\n",
       "[5 rows x 28 columns]"
      ]
     },
     "execution_count": 3,
     "metadata": {},
     "output_type": "execute_result"
    }
   ],
   "source": [
    "#First 5 rows\n",
    "d.head()"
   ]
  },
  {
   "cell_type": "code",
   "execution_count": 4,
   "id": "27f2dbef",
   "metadata": {
    "execution": {
     "iopub.execute_input": "2023-11-13T15:41:14.393187Z",
     "iopub.status.busy": "2023-11-13T15:41:14.392805Z",
     "iopub.status.idle": "2023-11-13T15:41:14.401376Z",
     "shell.execute_reply": "2023-11-13T15:41:14.400215Z"
    },
    "papermill": {
     "duration": 0.018047,
     "end_time": "2023-11-13T15:41:14.403738",
     "exception": false,
     "start_time": "2023-11-13T15:41:14.385691",
     "status": "completed"
    },
    "tags": []
   },
   "outputs": [
    {
     "data": {
      "text/plain": [
       "job_id                          int64\n",
       "company_id                    float64\n",
       "title                          object\n",
       "description                    object\n",
       "max_salary                    float64\n",
       "med_salary                    float64\n",
       "min_salary                    float64\n",
       "pay_period                     object\n",
       "formatted_work_type            object\n",
       "location                       object\n",
       "applies                       float64\n",
       "original_listed_time          float64\n",
       "remote_allowed                float64\n",
       "views                         float64\n",
       "job_posting_url                object\n",
       "application_url                object\n",
       "application_type               object\n",
       "expiry                        float64\n",
       "closed_time                   float64\n",
       "formatted_experience_level     object\n",
       "skills_desc                    object\n",
       "listed_time                   float64\n",
       "posting_domain                 object\n",
       "sponsored                       int64\n",
       "work_type                      object\n",
       "currency                       object\n",
       "compensation_type              object\n",
       "scraped                         int64\n",
       "dtype: object"
      ]
     },
     "execution_count": 4,
     "metadata": {},
     "output_type": "execute_result"
    }
   ],
   "source": [
    "#Check the types\n",
    "d.dtypes"
   ]
  },
  {
   "cell_type": "code",
   "execution_count": 5,
   "id": "1400a059",
   "metadata": {
    "execution": {
     "iopub.execute_input": "2023-11-13T15:41:14.417801Z",
     "iopub.status.busy": "2023-11-13T15:41:14.417128Z",
     "iopub.status.idle": "2023-11-13T15:41:14.451703Z",
     "shell.execute_reply": "2023-11-13T15:41:14.450841Z"
    },
    "papermill": {
     "duration": 0.044716,
     "end_time": "2023-11-13T15:41:14.454512",
     "exception": false,
     "start_time": "2023-11-13T15:41:14.409796",
     "status": "completed"
    },
    "tags": []
   },
   "outputs": [
    {
     "data": {
      "text/plain": [
       "job_id                            0\n",
       "company_id                      654\n",
       "title                             0\n",
       "description                       1\n",
       "max_salary                    22135\n",
       "med_salary                    31005\n",
       "min_salary                    22135\n",
       "pay_period                    19894\n",
       "formatted_work_type               0\n",
       "location                          0\n",
       "applies                       17008\n",
       "original_listed_time              0\n",
       "remote_allowed                28444\n",
       "views                          7360\n",
       "job_posting_url                   0\n",
       "application_url               12250\n",
       "application_type                  0\n",
       "expiry                            0\n",
       "closed_time                   32074\n",
       "formatted_experience_level     9181\n",
       "skills_desc                   32909\n",
       "listed_time                       0\n",
       "posting_domain                13558\n",
       "sponsored                         0\n",
       "work_type                         0\n",
       "currency                      19894\n",
       "compensation_type             19894\n",
       "scraped                           0\n",
       "dtype: int64"
      ]
     },
     "execution_count": 5,
     "metadata": {},
     "output_type": "execute_result"
    }
   ],
   "source": [
    "# Check how many null values are in the dataset\n",
    "d.isna().sum()"
   ]
  },
  {
   "cell_type": "code",
   "execution_count": 6,
   "id": "3717f34c",
   "metadata": {
    "execution": {
     "iopub.execute_input": "2023-11-13T15:41:14.469935Z",
     "iopub.status.busy": "2023-11-13T15:41:14.468612Z",
     "iopub.status.idle": "2023-11-13T15:41:14.475468Z",
     "shell.execute_reply": "2023-11-13T15:41:14.474300Z"
    },
    "papermill": {
     "duration": 0.017348,
     "end_time": "2023-11-13T15:41:14.478237",
     "exception": false,
     "start_time": "2023-11-13T15:41:14.460889",
     "status": "completed"
    },
    "tags": []
   },
   "outputs": [
    {
     "data": {
      "text/plain": [
       "(33246, 28)"
      ]
     },
     "execution_count": 6,
     "metadata": {},
     "output_type": "execute_result"
    }
   ],
   "source": [
    "d.shape"
   ]
  },
  {
   "cell_type": "code",
   "execution_count": 7,
   "id": "f762b525",
   "metadata": {
    "execution": {
     "iopub.execute_input": "2023-11-13T15:41:14.493147Z",
     "iopub.status.busy": "2023-11-13T15:41:14.492731Z",
     "iopub.status.idle": "2023-11-13T15:41:14.506269Z",
     "shell.execute_reply": "2023-11-13T15:41:14.505226Z"
    },
    "papermill": {
     "duration": 0.023931,
     "end_time": "2023-11-13T15:41:14.508737",
     "exception": false,
     "start_time": "2023-11-13T15:41:14.484806",
     "status": "completed"
    },
    "tags": []
   },
   "outputs": [],
   "source": [
    "# Drop the columns that has the most Null values\n",
    "to_drop = ['max_salary',\n",
    "           'med_salary',\n",
    "           'min_salary',\n",
    "           'pay_period',\n",
    "           'applies',\n",
    "           'remote_allowed',\n",
    "           'views',\n",
    "           'application_url',\n",
    "           'closed_time',\n",
    "           'formatted_experience_level',\n",
    "           'skills_desc',\n",
    "           'posting_domain',\n",
    "           'currency',\n",
    "           'compensation_type']\n",
    "d.drop(to_drop, inplace=True, axis=1)"
   ]
  },
  {
   "cell_type": "code",
   "execution_count": 8,
   "id": "613069af",
   "metadata": {
    "execution": {
     "iopub.execute_input": "2023-11-13T15:41:14.523635Z",
     "iopub.status.busy": "2023-11-13T15:41:14.523246Z",
     "iopub.status.idle": "2023-11-13T15:41:14.543681Z",
     "shell.execute_reply": "2023-11-13T15:41:14.542624Z"
    },
    "papermill": {
     "duration": 0.030725,
     "end_time": "2023-11-13T15:41:14.545886",
     "exception": false,
     "start_time": "2023-11-13T15:41:14.515161",
     "status": "completed"
    },
    "tags": []
   },
   "outputs": [
    {
     "data": {
      "text/html": [
       "<div>\n",
       "<style scoped>\n",
       "    .dataframe tbody tr th:only-of-type {\n",
       "        vertical-align: middle;\n",
       "    }\n",
       "\n",
       "    .dataframe tbody tr th {\n",
       "        vertical-align: top;\n",
       "    }\n",
       "\n",
       "    .dataframe thead th {\n",
       "        text-align: right;\n",
       "    }\n",
       "</style>\n",
       "<table border=\"1\" class=\"dataframe\">\n",
       "  <thead>\n",
       "    <tr style=\"text-align: right;\">\n",
       "      <th></th>\n",
       "      <th>job_id</th>\n",
       "      <th>company_id</th>\n",
       "      <th>title</th>\n",
       "      <th>description</th>\n",
       "      <th>formatted_work_type</th>\n",
       "      <th>location</th>\n",
       "      <th>original_listed_time</th>\n",
       "      <th>job_posting_url</th>\n",
       "      <th>application_type</th>\n",
       "      <th>expiry</th>\n",
       "      <th>listed_time</th>\n",
       "      <th>sponsored</th>\n",
       "      <th>work_type</th>\n",
       "      <th>scraped</th>\n",
       "    </tr>\n",
       "  </thead>\n",
       "  <tbody>\n",
       "    <tr>\n",
       "      <th>0</th>\n",
       "      <td>3757940104</td>\n",
       "      <td>553718.0</td>\n",
       "      <td>Hearing Care Provider</td>\n",
       "      <td>Overview\\n\\nHearingLife is a national hearing ...</td>\n",
       "      <td>Full-time</td>\n",
       "      <td>Little River, SC</td>\n",
       "      <td>1.699090e+12</td>\n",
       "      <td>https://www.linkedin.com/jobs/view/3757940104/...</td>\n",
       "      <td>OffsiteApply</td>\n",
       "      <td>1.701680e+12</td>\n",
       "      <td>1.699090e+12</td>\n",
       "      <td>0</td>\n",
       "      <td>FULL_TIME</td>\n",
       "      <td>1699138101</td>\n",
       "    </tr>\n",
       "    <tr>\n",
       "      <th>1</th>\n",
       "      <td>3757940025</td>\n",
       "      <td>2192142.0</td>\n",
       "      <td>Shipping &amp; Receiving Associate 2nd shift (Beav...</td>\n",
       "      <td>Metalcraft of Mayville\\nMetalcraft of Mayville...</td>\n",
       "      <td>Full-time</td>\n",
       "      <td>Beaver Dam, WI</td>\n",
       "      <td>1.699080e+12</td>\n",
       "      <td>https://www.linkedin.com/jobs/view/3757940025/...</td>\n",
       "      <td>OffsiteApply</td>\n",
       "      <td>1.701680e+12</td>\n",
       "      <td>1.699080e+12</td>\n",
       "      <td>0</td>\n",
       "      <td>FULL_TIME</td>\n",
       "      <td>1699085420</td>\n",
       "    </tr>\n",
       "    <tr>\n",
       "      <th>2</th>\n",
       "      <td>3757938019</td>\n",
       "      <td>474443.0</td>\n",
       "      <td>Manager, Engineering</td>\n",
       "      <td>\\nThe TSUBAKI name is synonymous with excellen...</td>\n",
       "      <td>Full-time</td>\n",
       "      <td>Bessemer, AL</td>\n",
       "      <td>1.699080e+12</td>\n",
       "      <td>https://www.linkedin.com/jobs/view/3757938019/...</td>\n",
       "      <td>OffsiteApply</td>\n",
       "      <td>1.701680e+12</td>\n",
       "      <td>1.699080e+12</td>\n",
       "      <td>0</td>\n",
       "      <td>FULL_TIME</td>\n",
       "      <td>1699085644</td>\n",
       "    </tr>\n",
       "    <tr>\n",
       "      <th>3</th>\n",
       "      <td>3757938018</td>\n",
       "      <td>18213359.0</td>\n",
       "      <td>Cook</td>\n",
       "      <td>descriptionTitle\\n\\n Looking for a great oppor...</td>\n",
       "      <td>Full-time</td>\n",
       "      <td>Aliso Viejo, CA</td>\n",
       "      <td>1.699080e+12</td>\n",
       "      <td>https://www.linkedin.com/jobs/view/3757938018/...</td>\n",
       "      <td>OffsiteApply</td>\n",
       "      <td>1.701680e+12</td>\n",
       "      <td>1.699080e+12</td>\n",
       "      <td>0</td>\n",
       "      <td>FULL_TIME</td>\n",
       "      <td>1699087461</td>\n",
       "    </tr>\n",
       "    <tr>\n",
       "      <th>4</th>\n",
       "      <td>3757937095</td>\n",
       "      <td>437225.0</td>\n",
       "      <td>Principal Cloud Security Architect (Remote)</td>\n",
       "      <td>Job Summary\\nAt iHerb, we are on a mission to ...</td>\n",
       "      <td>Full-time</td>\n",
       "      <td>United States</td>\n",
       "      <td>1.698970e+12</td>\n",
       "      <td>https://www.linkedin.com/jobs/view/3757937095/...</td>\n",
       "      <td>OffsiteApply</td>\n",
       "      <td>1.701680e+12</td>\n",
       "      <td>1.699090e+12</td>\n",
       "      <td>0</td>\n",
       "      <td>FULL_TIME</td>\n",
       "      <td>1699085346</td>\n",
       "    </tr>\n",
       "  </tbody>\n",
       "</table>\n",
       "</div>"
      ],
      "text/plain": [
       "       job_id  company_id                                              title  \\\n",
       "0  3757940104    553718.0                              Hearing Care Provider   \n",
       "1  3757940025   2192142.0  Shipping & Receiving Associate 2nd shift (Beav...   \n",
       "2  3757938019    474443.0                               Manager, Engineering   \n",
       "3  3757938018  18213359.0                                               Cook   \n",
       "4  3757937095    437225.0        Principal Cloud Security Architect (Remote)   \n",
       "\n",
       "                                         description formatted_work_type  \\\n",
       "0  Overview\\n\\nHearingLife is a national hearing ...           Full-time   \n",
       "1  Metalcraft of Mayville\\nMetalcraft of Mayville...           Full-time   \n",
       "2  \\nThe TSUBAKI name is synonymous with excellen...           Full-time   \n",
       "3  descriptionTitle\\n\\n Looking for a great oppor...           Full-time   \n",
       "4  Job Summary\\nAt iHerb, we are on a mission to ...           Full-time   \n",
       "\n",
       "           location  original_listed_time  \\\n",
       "0  Little River, SC          1.699090e+12   \n",
       "1    Beaver Dam, WI          1.699080e+12   \n",
       "2      Bessemer, AL          1.699080e+12   \n",
       "3   Aliso Viejo, CA          1.699080e+12   \n",
       "4     United States          1.698970e+12   \n",
       "\n",
       "                                     job_posting_url application_type  \\\n",
       "0  https://www.linkedin.com/jobs/view/3757940104/...     OffsiteApply   \n",
       "1  https://www.linkedin.com/jobs/view/3757940025/...     OffsiteApply   \n",
       "2  https://www.linkedin.com/jobs/view/3757938019/...     OffsiteApply   \n",
       "3  https://www.linkedin.com/jobs/view/3757938018/...     OffsiteApply   \n",
       "4  https://www.linkedin.com/jobs/view/3757937095/...     OffsiteApply   \n",
       "\n",
       "         expiry   listed_time  sponsored  work_type     scraped  \n",
       "0  1.701680e+12  1.699090e+12          0  FULL_TIME  1699138101  \n",
       "1  1.701680e+12  1.699080e+12          0  FULL_TIME  1699085420  \n",
       "2  1.701680e+12  1.699080e+12          0  FULL_TIME  1699085644  \n",
       "3  1.701680e+12  1.699080e+12          0  FULL_TIME  1699087461  \n",
       "4  1.701680e+12  1.699090e+12          0  FULL_TIME  1699085346  "
      ]
     },
     "execution_count": 8,
     "metadata": {},
     "output_type": "execute_result"
    }
   ],
   "source": [
    "d.head()"
   ]
  },
  {
   "cell_type": "markdown",
   "id": "e36ac5c7",
   "metadata": {
    "papermill": {
     "duration": 0.006337,
     "end_time": "2023-11-13T15:41:14.558891",
     "exception": false,
     "start_time": "2023-11-13T15:41:14.552554",
     "status": "completed"
    },
    "tags": []
   },
   "source": [
    "### Drop the null values in axis 0"
   ]
  },
  {
   "cell_type": "code",
   "execution_count": 9,
   "id": "f4cde712",
   "metadata": {
    "execution": {
     "iopub.execute_input": "2023-11-13T15:41:14.573818Z",
     "iopub.status.busy": "2023-11-13T15:41:14.573399Z",
     "iopub.status.idle": "2023-11-13T15:41:14.600717Z",
     "shell.execute_reply": "2023-11-13T15:41:14.599750Z"
    },
    "papermill": {
     "duration": 0.038198,
     "end_time": "2023-11-13T15:41:14.603772",
     "exception": false,
     "start_time": "2023-11-13T15:41:14.565574",
     "status": "completed"
    },
    "tags": []
   },
   "outputs": [],
   "source": [
    "d.dropna(axis =0, inplace= True)"
   ]
  },
  {
   "cell_type": "markdown",
   "id": "6d8e32b5",
   "metadata": {
    "papermill": {
     "duration": 0.006521,
     "end_time": "2023-11-13T15:41:14.616996",
     "exception": false,
     "start_time": "2023-11-13T15:41:14.610475",
     "status": "completed"
    },
    "tags": []
   },
   "source": [
    "### Check if there's more nulls in the data"
   ]
  },
  {
   "cell_type": "code",
   "execution_count": 10,
   "id": "d7622afa",
   "metadata": {
    "execution": {
     "iopub.execute_input": "2023-11-13T15:41:14.632161Z",
     "iopub.status.busy": "2023-11-13T15:41:14.631780Z",
     "iopub.status.idle": "2023-11-13T15:41:14.655014Z",
     "shell.execute_reply": "2023-11-13T15:41:14.653847Z"
    },
    "papermill": {
     "duration": 0.033486,
     "end_time": "2023-11-13T15:41:14.657365",
     "exception": false,
     "start_time": "2023-11-13T15:41:14.623879",
     "status": "completed"
    },
    "tags": []
   },
   "outputs": [
    {
     "data": {
      "text/plain": [
       "job_id                  0\n",
       "company_id              0\n",
       "title                   0\n",
       "description             0\n",
       "formatted_work_type     0\n",
       "location                0\n",
       "original_listed_time    0\n",
       "job_posting_url         0\n",
       "application_type        0\n",
       "expiry                  0\n",
       "listed_time             0\n",
       "sponsored               0\n",
       "work_type               0\n",
       "scraped                 0\n",
       "dtype: int64"
      ]
     },
     "execution_count": 10,
     "metadata": {},
     "output_type": "execute_result"
    }
   ],
   "source": [
    "# Check how many Null values still in the data\n",
    "d.isna().sum()"
   ]
  },
  {
   "cell_type": "code",
   "execution_count": 11,
   "id": "f9df417e",
   "metadata": {
    "execution": {
     "iopub.execute_input": "2023-11-13T15:41:14.672789Z",
     "iopub.status.busy": "2023-11-13T15:41:14.672409Z",
     "iopub.status.idle": "2023-11-13T15:41:14.678900Z",
     "shell.execute_reply": "2023-11-13T15:41:14.677764Z"
    },
    "papermill": {
     "duration": 0.016947,
     "end_time": "2023-11-13T15:41:14.681152",
     "exception": false,
     "start_time": "2023-11-13T15:41:14.664205",
     "status": "completed"
    },
    "tags": []
   },
   "outputs": [
    {
     "data": {
      "text/plain": [
       "(32591, 14)"
      ]
     },
     "execution_count": 11,
     "metadata": {},
     "output_type": "execute_result"
    }
   ],
   "source": [
    "# check the number of rows and columns in the dataset after dropping the columns\n",
    "d.shape"
   ]
  },
  {
   "cell_type": "code",
   "execution_count": 12,
   "id": "4fdc47f5",
   "metadata": {
    "execution": {
     "iopub.execute_input": "2023-11-13T15:41:14.696585Z",
     "iopub.status.busy": "2023-11-13T15:41:14.696214Z",
     "iopub.status.idle": "2023-11-13T15:41:14.702988Z",
     "shell.execute_reply": "2023-11-13T15:41:14.701823Z"
    },
    "papermill": {
     "duration": 0.017065,
     "end_time": "2023-11-13T15:41:14.705219",
     "exception": false,
     "start_time": "2023-11-13T15:41:14.688154",
     "status": "completed"
    },
    "tags": []
   },
   "outputs": [
    {
     "data": {
      "text/plain": [
       "14"
      ]
     },
     "execution_count": 12,
     "metadata": {},
     "output_type": "execute_result"
    }
   ],
   "source": [
    "len(d.columns)"
   ]
  },
  {
   "cell_type": "markdown",
   "id": "3eb8228c",
   "metadata": {
    "papermill": {
     "duration": 0.007107,
     "end_time": "2023-11-13T15:41:14.719267",
     "exception": false,
     "start_time": "2023-11-13T15:41:14.712160",
     "status": "completed"
    },
    "tags": []
   },
   "source": [
    "### View the columns"
   ]
  },
  {
   "cell_type": "code",
   "execution_count": 13,
   "id": "0e1e7a87",
   "metadata": {
    "execution": {
     "iopub.execute_input": "2023-11-13T15:41:14.735810Z",
     "iopub.status.busy": "2023-11-13T15:41:14.735039Z",
     "iopub.status.idle": "2023-11-13T15:41:14.742280Z",
     "shell.execute_reply": "2023-11-13T15:41:14.741188Z"
    },
    "papermill": {
     "duration": 0.018204,
     "end_time": "2023-11-13T15:41:14.744532",
     "exception": false,
     "start_time": "2023-11-13T15:41:14.726328",
     "status": "completed"
    },
    "tags": []
   },
   "outputs": [
    {
     "data": {
      "text/plain": [
       "Index(['job_id', 'company_id', 'title', 'description', 'formatted_work_type',\n",
       "       'location', 'original_listed_time', 'job_posting_url',\n",
       "       'application_type', 'expiry', 'listed_time', 'sponsored', 'work_type',\n",
       "       'scraped'],\n",
       "      dtype='object')"
      ]
     },
     "execution_count": 13,
     "metadata": {},
     "output_type": "execute_result"
    }
   ],
   "source": [
    "d.columns"
   ]
  },
  {
   "cell_type": "code",
   "execution_count": 14,
   "id": "815ec73d",
   "metadata": {
    "execution": {
     "iopub.execute_input": "2023-11-13T15:41:14.760230Z",
     "iopub.status.busy": "2023-11-13T15:41:14.759825Z",
     "iopub.status.idle": "2023-11-13T15:41:14.766608Z",
     "shell.execute_reply": "2023-11-13T15:41:14.765567Z"
    },
    "papermill": {
     "duration": 0.017411,
     "end_time": "2023-11-13T15:41:14.768976",
     "exception": false,
     "start_time": "2023-11-13T15:41:14.751565",
     "status": "completed"
    },
    "tags": []
   },
   "outputs": [
    {
     "data": {
      "text/plain": [
       "32591"
      ]
     },
     "execution_count": 14,
     "metadata": {},
     "output_type": "execute_result"
    }
   ],
   "source": [
    "len(d)"
   ]
  },
  {
   "cell_type": "markdown",
   "id": "9e74b756",
   "metadata": {
    "papermill": {
     "duration": 0.006772,
     "end_time": "2023-11-13T15:41:14.783354",
     "exception": false,
     "start_time": "2023-11-13T15:41:14.776582",
     "status": "completed"
    },
    "tags": []
   },
   "source": [
    "### Taking the first 10 job titles from the data"
   ]
  },
  {
   "cell_type": "code",
   "execution_count": 15,
   "id": "2c33edb7",
   "metadata": {
    "execution": {
     "iopub.execute_input": "2023-11-13T15:41:14.798925Z",
     "iopub.status.busy": "2023-11-13T15:41:14.798533Z",
     "iopub.status.idle": "2023-11-13T15:41:14.818388Z",
     "shell.execute_reply": "2023-11-13T15:41:14.817314Z"
    },
    "papermill": {
     "duration": 0.030459,
     "end_time": "2023-11-13T15:41:14.820855",
     "exception": false,
     "start_time": "2023-11-13T15:41:14.790396",
     "status": "completed"
    },
    "tags": []
   },
   "outputs": [],
   "source": [
    "s = d['title'].value_counts().head(10)"
   ]
  },
  {
   "cell_type": "markdown",
   "id": "6fc1ea87",
   "metadata": {
    "papermill": {
     "duration": 0.006823,
     "end_time": "2023-11-13T15:41:14.835082",
     "exception": false,
     "start_time": "2023-11-13T15:41:14.828259",
     "status": "completed"
    },
    "tags": []
   },
   "source": [
    "### Visulize the 10 job titles"
   ]
  },
  {
   "cell_type": "code",
   "execution_count": 16,
   "id": "429ff88f",
   "metadata": {
    "execution": {
     "iopub.execute_input": "2023-11-13T15:41:14.851640Z",
     "iopub.status.busy": "2023-11-13T15:41:14.851276Z",
     "iopub.status.idle": "2023-11-13T15:41:15.283965Z",
     "shell.execute_reply": "2023-11-13T15:41:15.283097Z"
    },
    "papermill": {
     "duration": 0.444417,
     "end_time": "2023-11-13T15:41:15.286731",
     "exception": false,
     "start_time": "2023-11-13T15:41:14.842314",
     "status": "completed"
    },
    "tags": []
   },
   "outputs": [
    {
     "data": {
      "image/png": "[encoded data removed]",
      "text/plain": [
       "<Figure size 1500x1000 with 1 Axes>"
      ]
     },
     "metadata": {},
     "output_type": "display_data"
    }
   ],
   "source": [
    "from matplotlib import pyplot as plt\n",
    "\n",
    "fig, ax = plt.subplots(figsize=(15, 10))\n",
    "c = ['#004764','#0072A0','#00ABF0', '#19BDFF', '#37C6FF','#55CEFF','#73D7FF','#91E0FF','#A5E5FF','#B9EBFF']\n",
    "\n",
    "plt.pie(s, autopct = '%1.0f%%',colors = c)\n",
    "\n",
    "ax.legend(d.title,\n",
    "          title='Title',\n",
    "          loc=\"center left\",\n",
    "          bbox_to_anchor=(1, 0, 0.5, 1)\n",
    ")\n",
    "ax.set_title('Most Common Job titles in Linkedin', fontfamily='serif', fontsize=15,fontweight='bold')\n",
    "\n",
    "# Show Plot\n",
    "plt.show()"
   ]
  },
  {
   "cell_type": "markdown",
   "id": "14fcdc43",
   "metadata": {
    "papermill": {
     "duration": 0.008425,
     "end_time": "2023-11-13T15:41:15.304063",
     "exception": false,
     "start_time": "2023-11-13T15:41:15.295638",
     "status": "completed"
    },
    "tags": []
   },
   "source": [
    "### Taking the 10th locations from the data and count the number of job posting in each location."
   ]
  },
  {
   "cell_type": "code",
   "execution_count": 17,
   "id": "d80e5dcc",
   "metadata": {
    "execution": {
     "iopub.execute_input": "2023-11-13T15:41:15.323596Z",
     "iopub.status.busy": "2023-11-13T15:41:15.323174Z",
     "iopub.status.idle": "2023-11-13T15:41:15.624909Z",
     "shell.execute_reply": "2023-11-13T15:41:15.623956Z"
    },
    "papermill": {
     "duration": 0.314615,
     "end_time": "2023-11-13T15:41:15.627314",
     "exception": false,
     "start_time": "2023-11-13T15:41:15.312699",
     "status": "completed"
    },
    "tags": []
   },
   "outputs": [
    {
     "data": {
      "image/png": "[encoded data removed]",
      "text/plain": [
       "<Figure size 640x480 with 1 Axes>"
      ]
     },
     "metadata": {},
     "output_type": "display_data"
    }
   ],
   "source": [
    "\n",
    "d['location'].value_counts().head(10).plot(kind = 'bar', color = 'lightblue')\n",
    "ax.invert_yaxis()\n",
    "plt.rcParams['figure.figsize'] = (10, 5)\n",
    "plt.ylabel('Number of Jobs')\n",
    "plt.xlabel('Different Locations')\n",
    "plt.xticks(rotation = 45)\n",
    "plt.title('No. of Jobs in each Locations', fontsize =12)\n",
    "plt.show()\n",
    "\n"
   ]
  }
 ],
 "metadata": {
  "kaggle": {
   "accelerator": "none",
   "dataSources": [
    {
     "datasetId": 3680745,
     "sourceId": 6714625,
     "sourceType": "datasetVersion"
    }
   ],
   "dockerImageVersionId": 30558,
   "isGpuEnabled": false,
   "isInternetEnabled": true,
   "language": "python",
   "sourceType": "notebook"
  },
  "kernelspec": {
   "display_name": "Python 3",
   "language": "python",
   "name": "python3"
  },
  "language_info": {
   "codemirror_mode": {
    "name": "ipython",
    "version": 3
   },
   "file_extension": ".py",
   "mimetype": "text/x-python",
   "name": "python",
   "nbconvert_exporter": "python",
   "pygments_lexer": "ipython3",
   "version": "3.10.12"
  },
  "papermill": {
   "default_parameters": {},
   "duration": 10.545136,
   "end_time": "2023-11-13T15:41:16.157807",
   "environment_variables": {},
   "exception": null,
   "input_path": "__notebook__.ipynb",
   "output_path": "__notebook__.ipynb",
   "parameters": {},
   "start_time": "2023-11-13T15:41:05.612671",
   "version": "2.4.0"
  }
 },
 "nbformat": 4,
 "nbformat_minor": 5
}
